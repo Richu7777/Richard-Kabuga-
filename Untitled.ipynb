{
 "cells": [
  {
   "cell_type": "code",
   "execution_count": 2,
   "id": "7c461ebb",
   "metadata": {},
   "outputs": [
    {
     "name": "stdout",
     "output_type": "stream",
     "text": [
      "12\n"
     ]
    }
   ],
   "source": [
    "#A program that takes two numbers and adds them together\n",
    "\n",
    "a=5\n",
    "b=7\n",
    "c=(a + b)\n",
    "print(c)"
   ]
  },
  {
   "cell_type": "code",
   "execution_count": null,
   "id": "74aeebe9",
   "metadata": {},
   "outputs": [],
   "source": [
    "#Addition od digits of a given number\n",
    "\n",
    "number=int(input(\"Enter a number\"))\n",
    " \n",
    "number_str=str(number)\n",
    "total_sum=0\n",
    "\n",
    "for digit in number_str:\n",
    "    total_Sum+=int(digit)\n",
    "    \n",
    "print(total_Sum)    \n"
   ]
  },
  {
   "cell_type": "code",
   "execution_count": 1,
   "id": "50831d35",
   "metadata": {},
   "outputs": [
    {
     "name": "stdout",
     "output_type": "stream",
     "text": [
      "Enter the temp in celcius:70\n",
      "158.0\n"
     ]
    }
   ],
   "source": [
    "celsius=float(input(\"Enter the temp in celcius:\"))\n",
    "fahrenheit=(celsius * 9/5)+ 32\n",
    "print(fahrenheit)"
   ]
  },
  {
   "cell_type": "code",
   "execution_count": null,
   "id": "e8d09874",
   "metadata": {},
   "outputs": [],
   "source": [
    "#differentiating between odd and even number\n",
    "\n",
    "number=int(input(\"Enter number:\"))\n",
    "\n",
    "if (number %2)==0:\n",
    "    print(\"is an even number\")\n",
    "    \n",
    "else:\n",
    "    print(\"is an odd number\")"
   ]
  },
  {
   "cell_type": "code",
   "execution_count": null,
   "id": "2587a188",
   "metadata": {},
   "outputs": [
    {
     "name": "stdout",
     "output_type": "stream",
     "text": [
      "Welcome to the Addition/Subtraction Quiz!\n",
      "\n",
      "Question 1: What is 2 + 12?\n"
     ]
    }
   ],
   "source": [
    "import random\n",
    "\n",
    "# Function to generate random numbers\n",
    "def generate_random_number(minimum, maximum):\n",
    "    return random.randint(minimum, maximum)\n",
    "\n",
    "# Function to display the question and check the answer\n",
    "def ask_question(num1, num2, operation):\n",
    "    if operation == '+':\n",
    "        print(f\"What is {num1} + {num2}?\")\n",
    "        result = num1 + num2\n",
    "    elif operation == '-':\n",
    "        print(f\"What is {num1} - {num2}?\")\n",
    "        result = num1 - num2\n",
    "\n",
    "    user_answer = int(input(\"Your answer: \"))\n",
    "    return user_answer == result\n",
    "\n",
    "def main():\n",
    "    MIN_NUMBER = 1\n",
    "    MAX_NUMBER = 20\n",
    "    OPERATIONS = ['+', '-']\n",
    "    NUM_QUESTIONS = 5\n",
    "\n",
    "    print(\"Welcome to the Addition/Subtraction Quiz!\\n\")\n",
    "\n",
    "    correct_answers = 0\n",
    "\n",
    "    for i in range(NUM_QUESTIONS):\n",
    "        operation = random.choice(OPERATIONS)\n",
    "        num1 = generate_random_number(MIN_NUMBER, MAX_NUMBER)\n",
    "        num2 = generate_random_number(MIN_NUMBER, MAX_NUMBER)\n",
    "\n",
    "        print(f\"Question {i + 1}: \", end='')\n",
    "        if ask_question(num1, num2, operation):\n",
    "            print(\"Correct!\")\n",
    "            correct_answers += 1\n",
    "        else:\n",
    "            print(f\"Incorrect. The correct answer is {num1 + num2 if operation == '+' else num1 - num2}.\")\n",
    "\n",
    "    print(f\"\\nYou got {correct_answers} out of {NUM_QUESTIONS} questions correct.\")\n",
    "\n",
    "if __name__ == \"__main__\":\n",
    "    main()\n"
   ]
  },
  {
   "cell_type": "code",
   "execution_count": null,
   "id": "3f7f3541",
   "metadata": {},
   "outputs": [],
   "source": []
  }
 ],
 "metadata": {
  "kernelspec": {
   "display_name": "Python 3 (ipykernel)",
   "language": "python",
   "name": "python3"
  },
  "language_info": {
   "codemirror_mode": {
    "name": "ipython",
    "version": 3
   },
   "file_extension": ".py",
   "mimetype": "text/x-python",
   "name": "python",
   "nbconvert_exporter": "python",
   "pygments_lexer": "ipython3",
   "version": "3.10.9"
  }
 },
 "nbformat": 4,
 "nbformat_minor": 5
}
